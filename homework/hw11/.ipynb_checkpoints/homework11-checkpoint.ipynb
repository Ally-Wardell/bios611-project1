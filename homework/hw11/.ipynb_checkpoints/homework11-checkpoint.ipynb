{
 "cells": [
  {
   "cell_type": "markdown",
   "id": "295c68be-2b1d-4ca1-8c71-fa34013c841e",
   "metadata": {},
   "source": [
    "1. What is the difference between global, nonlocal and normal variables?"
   ]
  },
  {
   "cell_type": "markdown",
   "id": "b4af2fa7-a233-40b1-a24e-4da94bc8f9dc",
   "metadata": {},
   "source": [
    "- global variable: variable that is not defined in a function and can be accessed inside or outside of the function. \n",
    "\n",
    "- local variable: variable that is defined insdie a function and has a limited scope only to the function. \n",
    "\n",
    "- nonlocal variable: variables used in nested funtions whose local scope is not defined. Thus, the variable can be neither in the local or global scope. "
   ]
  },
  {
   "cell_type": "markdown",
   "id": "6fe35db3-739c-4a6d-97ea-b805d307a516",
   "metadata": {},
   "source": [
    "2. Given the implementation of our Point class"
   ]
  },
  {
   "cell_type": "code",
   "execution_count": 48,
   "id": "c81ca839-d40e-46c1-a81d-bcacbc9ba03b",
   "metadata": {},
   "outputs": [],
   "source": [
    "from random import random\n",
    "from math import sqrt, sin, cos, pi\n",
    "class Point:\n",
    "    x = 0\n",
    "    y = 0\n",
    "    def __init__(self, x, y):\n",
    "        self.x = x;\n",
    "        self.y = y;\n",
    "        \n",
    "    def length(self):\n",
    "        r = sqrt(self.x*self.x + self.y*self.y);\n",
    "        return r;\n",
    "    \n",
    "    def randomize_dir(self):\n",
    "        r = self.length();\n",
    "        theta = random()*2*pi;\n",
    "        self.x = r*cos(theta);\n",
    "        self.y = r*sin(theta);\n",
    "        return self;\n",
    "    \n",
    "    def __str__(self):\n",
    "        return \"<{}, {}>\".format(self.x, self.y)\n",
    "    \n",
    "    def __repr__(self):\n",
    "        return \"<Point: {}, {}>\".format(self.x, self.y)\n",
    "    \n",
    "    def __add__(self, other):\n",
    "        return Point(self.x + other.x, self.y + other.y)\n"
   ]
  },
  {
   "cell_type": "markdown",
   "id": "a8d42b01-9430-4247-b54b-8c6bd4674465",
   "metadata": {},
   "source": [
    "What do you expect the following code to do and why?\n",
    "Point(10,10) + 1"
   ]
  },
  {
   "cell_type": "markdown",
   "id": "c0289365-0709-4bb2-b5b6-b5a9474f0032",
   "metadata": {},
   "source": [
    "- When we run the code above, there is an error because there is no attribute x for the integer 1 "
   ]
  },
  {
   "cell_type": "code",
   "execution_count": 47,
   "id": "6184ba44-cc9e-4466-b908-962fc6d5fcdf",
   "metadata": {},
   "outputs": [
    {
     "ename": "AttributeError",
     "evalue": "'int' object has no attribute 'x'",
     "output_type": "error",
     "traceback": [
      "\u001b[0;31m---------------------------------------------------------------------------\u001b[0m",
      "\u001b[0;31mAttributeError\u001b[0m                            Traceback (most recent call last)",
      "\u001b[0;32m/tmp/ipykernel_34/615799304.py\u001b[0m in \u001b[0;36m<module>\u001b[0;34m\u001b[0m\n\u001b[0;32m----> 1\u001b[0;31m \u001b[0mp\u001b[0m \u001b[0;34m=\u001b[0m \u001b[0mPoint\u001b[0m\u001b[0;34m(\u001b[0m\u001b[0;36m10\u001b[0m\u001b[0;34m,\u001b[0m\u001b[0;36m0\u001b[0m\u001b[0;34m)\u001b[0m \u001b[0;34m+\u001b[0m\u001b[0;36m1\u001b[0m\u001b[0;34m\u001b[0m\u001b[0;34m\u001b[0m\u001b[0m\n\u001b[0m\u001b[1;32m      2\u001b[0m \u001b[0mprint\u001b[0m\u001b[0;34m(\u001b[0m\u001b[0mp\u001b[0m\u001b[0;34m)\u001b[0m\u001b[0;34m\u001b[0m\u001b[0;34m\u001b[0m\u001b[0m\n\u001b[1;32m      3\u001b[0m \u001b[0mp\u001b[0m\u001b[0;34m.\u001b[0m\u001b[0mlength\u001b[0m\u001b[0;34m(\u001b[0m\u001b[0;34m)\u001b[0m\u001b[0;34m\u001b[0m\u001b[0;34m\u001b[0m\u001b[0m\n",
      "\u001b[0;32m/tmp/ipykernel_34/807007379.py\u001b[0m in \u001b[0;36m__add__\u001b[0;34m(self, other)\u001b[0m\n\u001b[1;32m     26\u001b[0m \u001b[0;34m\u001b[0m\u001b[0m\n\u001b[1;32m     27\u001b[0m     \u001b[0;32mdef\u001b[0m \u001b[0m__add__\u001b[0m\u001b[0;34m(\u001b[0m\u001b[0mself\u001b[0m\u001b[0;34m,\u001b[0m \u001b[0mother\u001b[0m\u001b[0;34m)\u001b[0m\u001b[0;34m:\u001b[0m\u001b[0;34m\u001b[0m\u001b[0;34m\u001b[0m\u001b[0m\n\u001b[0;32m---> 28\u001b[0;31m         \u001b[0;32mreturn\u001b[0m \u001b[0mPoint\u001b[0m\u001b[0;34m(\u001b[0m\u001b[0mself\u001b[0m\u001b[0;34m.\u001b[0m\u001b[0mx\u001b[0m \u001b[0;34m+\u001b[0m \u001b[0mother\u001b[0m\u001b[0;34m.\u001b[0m\u001b[0mx\u001b[0m\u001b[0;34m,\u001b[0m \u001b[0mself\u001b[0m\u001b[0;34m.\u001b[0m\u001b[0my\u001b[0m \u001b[0;34m+\u001b[0m \u001b[0mother\u001b[0m\u001b[0;34m.\u001b[0m\u001b[0my\u001b[0m\u001b[0;34m)\u001b[0m\u001b[0;34m\u001b[0m\u001b[0;34m\u001b[0m\u001b[0m\n\u001b[0m",
      "\u001b[0;31mAttributeError\u001b[0m: 'int' object has no attribute 'x'"
     ]
    }
   ],
   "source": [
    "p = Point(10,0) + 1\n",
    "print(p)\n"
   ]
  },
  {
   "cell_type": "markdown",
   "id": "dbb9cf31-d742-4ba3-8330-3a7c5ea9fb4a",
   "metadata": {},
   "source": [
    "What about: Point(10,10)*1"
   ]
  },
  {
   "cell_type": "markdown",
   "id": "ff71fa01-7ae9-40bd-af13-c63054400ddc",
   "metadata": {},
   "source": [
    "- an error will result. the * is not a supported operanc for the Point class"
   ]
  },
  {
   "cell_type": "code",
   "execution_count": 49,
   "id": "d4a3deaa-98aa-4eb0-83d4-f1150347668c",
   "metadata": {},
   "outputs": [
    {
     "ename": "TypeError",
     "evalue": "unsupported operand type(s) for *: 'Point' and 'int'",
     "output_type": "error",
     "traceback": [
      "\u001b[0;31m---------------------------------------------------------------------------\u001b[0m",
      "\u001b[0;31mTypeError\u001b[0m                                 Traceback (most recent call last)",
      "\u001b[0;32m/tmp/ipykernel_34/3331239070.py\u001b[0m in \u001b[0;36m<module>\u001b[0;34m\u001b[0m\n\u001b[0;32m----> 1\u001b[0;31m \u001b[0mp\u001b[0m \u001b[0;34m=\u001b[0m \u001b[0mPoint\u001b[0m\u001b[0;34m(\u001b[0m\u001b[0;36m10\u001b[0m\u001b[0;34m,\u001b[0m\u001b[0;36m0\u001b[0m\u001b[0;34m)\u001b[0m \u001b[0;34m*\u001b[0m \u001b[0;36m1\u001b[0m\u001b[0;34m\u001b[0m\u001b[0;34m\u001b[0m\u001b[0m\n\u001b[0m",
      "\u001b[0;31mTypeError\u001b[0m: unsupported operand type(s) for *: 'Point' and 'int'"
     ]
    }
   ],
   "source": [
    "p = Point(10,0) * 1\n",
    "print(p)"
   ]
  },
  {
   "cell_type": "markdown",
   "id": "fd6ab37a-3edc-45f3-be46-4f938d479df6",
   "metadata": {},
   "source": [
    "3. Python also has for loops. Write a program to determine whether the body of a python for loop shares the same environment as its context or whether it is a separate environment."
   ]
  },
  {
   "cell_type": "code",
   "execution_count": 29,
   "id": "9bfcdf81-13c1-4d07-b3b9-091d6fccab32",
   "metadata": {},
   "outputs": [
    {
     "name": "stdout",
     "output_type": "stream",
     "text": [
      "4\n",
      "2\n",
      "3\n",
      "4\n",
      "5\n",
      "6\n",
      "6\n"
     ]
    }
   ],
   "source": [
    "x=4\n",
    "print(x)\n",
    "\n",
    "for x in [1,2,3,4,5]:\n",
    "    x=x+1\n",
    "    print(x)\n",
    "\n",
    "print(x)"
   ]
  },
  {
   "cell_type": "markdown",
   "id": "0f8c2d68-2b1d-43d7-8917-15afa3b02e95",
   "metadata": {},
   "source": [
    "- Here we can see that if we update the value of variables within a for loop environment, the value in our global environment is updated as well. The for loop seems to share the same environment as its context. "
   ]
  },
  {
   "cell_type": "markdown",
   "id": "94cab378-237d-4094-90d6-a03893fd8b1d",
   "metadata": {},
   "source": [
    "4. The Fibbonoci Sequence:1, 1, 2, 3, 5, 8, 13, 21, 34, ...\n",
    "\n",
    "Is produced by starting with the sequence 1, 1. The nth value is then defined as the sum of the 2 previous values.\n",
    "\n",
    "Write a function `make_fib_counter` which returns a function which gives successive fibonocci numbers upon repeated invocation."
   ]
  },
  {
   "cell_type": "code",
   "execution_count": 46,
   "id": "e054d89b-36f7-4140-a049-d83af952b852",
   "metadata": {},
   "outputs": [
    {
     "name": "stdout",
     "output_type": "stream",
     "text": [
      "[2, 3, 5, 8, 13, 21]\n"
     ]
    }
   ],
   "source": [
    "def make_fib_counter(arg1, arg2):\n",
    "    state1 = arg1;\n",
    "    state2 = arg2; \n",
    "    def counter():\n",
    "        nonlocal state1\n",
    "        cv1 = state1;\n",
    "        nonlocal state2\n",
    "        cv2 = state2; \n",
    "        state1 = state2\n",
    "        state2 = cv1+ cv2;\n",
    "        return state2;\n",
    "    return counter;\n",
    "\n",
    "c0 = make_fib_counter(1, 1);\n",
    "#c10 = make_counter(10);\n",
    "print([c0(), c0(), c0(), c0(), c0(), c0()])"
   ]
  }
 ],
 "metadata": {
  "kernelspec": {
   "display_name": "Python 3 (ipykernel)",
   "language": "python",
   "name": "python3"
  },
  "language_info": {
   "codemirror_mode": {
    "name": "ipython",
    "version": 3
   },
   "file_extension": ".py",
   "mimetype": "text/x-python",
   "name": "python",
   "nbconvert_exporter": "python",
   "pygments_lexer": "ipython3",
   "version": "3.8.10"
  }
 },
 "nbformat": 4,
 "nbformat_minor": 5
}
